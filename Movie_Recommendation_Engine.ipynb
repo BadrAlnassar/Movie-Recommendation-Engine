{
  "nbformat": 4,
  "nbformat_minor": 0,
  "metadata": {
    "colab": {
      "name": "Movie-Recommendation-Engine.ipynb",
      "provenance": []
    },
    "kernelspec": {
      "name": "python3",
      "display_name": "Python 3"
    }
  },
  "cells": [
    {
      "cell_type": "code",
      "metadata": {
        "id": "ue6d6jLz6xdP",
        "colab_type": "code",
        "colab": {}
      },
      "source": [
        "import pandas as pd\n",
        "import numpy as np\n",
        "from sklearn.metrics.pairwise import cosine_similarity # References: C.D. Manning, P. Raghavan and H. Schütze (2008). Introduction to Information Retrieval. Cambridge University Press. https://nlp.stanford.edu/IR-book/html/htmledition/the-vector-space-model-for-scoring-1.html\n",
        "from sklearn.feature_extraction.text import CountVectorizer\n",
        "from google.colab import files"
      ],
      "execution_count": 1,
      "outputs": []
    },
    {
      "cell_type": "code",
      "metadata": {
        "id": "HM1S__uT83BW",
        "colab_type": "code",
        "colab": {
          "resources": {
            "http://localhost:8080/nbextensions/google.colab/files.js": {
              "data": "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",
              "ok": true,
              "headers": [
                [
                  "content-type",
                  "application/javascript"
                ]
              ],
              "status": 200,
              "status_text": ""
            }
          },
          "base_uri": "https://localhost:8080/",
          "height": 72
        },
        "outputId": "0ad42a15-2cc5-4173-af4e-3de8521a7455"
      },
      "source": [
        "uploaded = files.upload()"
      ],
      "execution_count": 2,
      "outputs": [
        {
          "output_type": "display_data",
          "data": {
            "text/html": [
              "\n",
              "     <input type=\"file\" id=\"files-1472c049-9ee6-4c0f-8c53-390ab7976961\" name=\"files[]\" multiple disabled\n",
              "        style=\"border:none\" />\n",
              "     <output id=\"result-1472c049-9ee6-4c0f-8c53-390ab7976961\">\n",
              "      Upload widget is only available when the cell has been executed in the\n",
              "      current browser session. Please rerun this cell to enable.\n",
              "      </output>\n",
              "      <script src=\"/nbextensions/google.colab/files.js\"></script> "
            ],
            "text/plain": [
              "<IPython.core.display.HTML object>"
            ]
          },
          "metadata": {
            "tags": []
          }
        },
        {
          "output_type": "stream",
          "text": [
            "Saving movies_dataset.csv to movies_dataset.csv\n"
          ],
          "name": "stdout"
        }
      ]
    },
    {
      "cell_type": "code",
      "metadata": {
        "id": "qwRKU9cN9R_2",
        "colab_type": "code",
        "colab": {
          "base_uri": "https://localhost:8080/",
          "height": 1000
        },
        "outputId": "86c52157-3c77-4ba1-da57-809a7523eb48"
      },
      "source": [
        "df = pd.read_csv('movies_dataset.csv')\n",
        "df.head(20)"
      ],
      "execution_count": 3,
      "outputs": [
        {
          "output_type": "execute_result",
          "data": {
            "text/html": [
              "<div>\n",
              "<style scoped>\n",
              "    .dataframe tbody tr th:only-of-type {\n",
              "        vertical-align: middle;\n",
              "    }\n",
              "\n",
              "    .dataframe tbody tr th {\n",
              "        vertical-align: top;\n",
              "    }\n",
              "\n",
              "    .dataframe thead th {\n",
              "        text-align: right;\n",
              "    }\n",
              "</style>\n",
              "<table border=\"1\" class=\"dataframe\">\n",
              "  <thead>\n",
              "    <tr style=\"text-align: right;\">\n",
              "      <th></th>\n",
              "      <th>Rank</th>\n",
              "      <th>Title</th>\n",
              "      <th>Genre</th>\n",
              "      <th>Description</th>\n",
              "      <th>Director</th>\n",
              "      <th>Actors</th>\n",
              "      <th>Year</th>\n",
              "      <th>Runtime (Minutes)</th>\n",
              "      <th>Rating</th>\n",
              "      <th>Votes</th>\n",
              "      <th>Revenue (Millions)</th>\n",
              "      <th>Metascore</th>\n",
              "      <th>Movie_id</th>\n",
              "    </tr>\n",
              "  </thead>\n",
              "  <tbody>\n",
              "    <tr>\n",
              "      <th>0</th>\n",
              "      <td>1</td>\n",
              "      <td>Guardians of the Galaxy</td>\n",
              "      <td>Action,Adventure,Sci-Fi</td>\n",
              "      <td>A group of intergalactic criminals are forced ...</td>\n",
              "      <td>James Gunn</td>\n",
              "      <td>Chris Pratt, Vin Diesel, Bradley Cooper, Zoe S...</td>\n",
              "      <td>2014</td>\n",
              "      <td>121</td>\n",
              "      <td>8.1</td>\n",
              "      <td>757074</td>\n",
              "      <td>333.13</td>\n",
              "      <td>76.0</td>\n",
              "      <td>0</td>\n",
              "    </tr>\n",
              "    <tr>\n",
              "      <th>1</th>\n",
              "      <td>2</td>\n",
              "      <td>Prometheus</td>\n",
              "      <td>Adventure,Mystery,Sci-Fi</td>\n",
              "      <td>Following clues to the origin of mankind, a te...</td>\n",
              "      <td>Ridley Scott</td>\n",
              "      <td>Noomi Rapace, Logan Marshall-Green, Michael Fa...</td>\n",
              "      <td>2012</td>\n",
              "      <td>124</td>\n",
              "      <td>7.0</td>\n",
              "      <td>485820</td>\n",
              "      <td>126.46</td>\n",
              "      <td>65.0</td>\n",
              "      <td>1</td>\n",
              "    </tr>\n",
              "    <tr>\n",
              "      <th>2</th>\n",
              "      <td>3</td>\n",
              "      <td>Split</td>\n",
              "      <td>Horror,Thriller</td>\n",
              "      <td>Three girls are kidnapped by a man with a diag...</td>\n",
              "      <td>M. Night Shyamalan</td>\n",
              "      <td>James McAvoy, Anya Taylor-Joy, Haley Lu Richar...</td>\n",
              "      <td>2016</td>\n",
              "      <td>117</td>\n",
              "      <td>7.3</td>\n",
              "      <td>157606</td>\n",
              "      <td>138.12</td>\n",
              "      <td>62.0</td>\n",
              "      <td>2</td>\n",
              "    </tr>\n",
              "    <tr>\n",
              "      <th>3</th>\n",
              "      <td>4</td>\n",
              "      <td>Sing</td>\n",
              "      <td>Animation,Comedy,Family</td>\n",
              "      <td>In a city of humanoid animals, a hustling thea...</td>\n",
              "      <td>Christophe Lourdelet</td>\n",
              "      <td>Matthew McConaughey,Reese Witherspoon, Seth Ma...</td>\n",
              "      <td>2016</td>\n",
              "      <td>108</td>\n",
              "      <td>7.2</td>\n",
              "      <td>60545</td>\n",
              "      <td>270.32</td>\n",
              "      <td>59.0</td>\n",
              "      <td>3</td>\n",
              "    </tr>\n",
              "    <tr>\n",
              "      <th>4</th>\n",
              "      <td>5</td>\n",
              "      <td>Suicide Squad</td>\n",
              "      <td>Action,Adventure,Fantasy</td>\n",
              "      <td>A secret government agency recruits some of th...</td>\n",
              "      <td>David Ayer</td>\n",
              "      <td>Will Smith, Jared Leto, Margot Robbie, Viola D...</td>\n",
              "      <td>2016</td>\n",
              "      <td>123</td>\n",
              "      <td>6.2</td>\n",
              "      <td>393727</td>\n",
              "      <td>325.02</td>\n",
              "      <td>40.0</td>\n",
              "      <td>4</td>\n",
              "    </tr>\n",
              "    <tr>\n",
              "      <th>5</th>\n",
              "      <td>6</td>\n",
              "      <td>The Great Wall</td>\n",
              "      <td>Action,Adventure,Fantasy</td>\n",
              "      <td>European mercenaries searching for black powde...</td>\n",
              "      <td>Yimou Zhang</td>\n",
              "      <td>Matt Damon, Tian Jing, Willem Dafoe, Andy Lau</td>\n",
              "      <td>2016</td>\n",
              "      <td>103</td>\n",
              "      <td>6.1</td>\n",
              "      <td>56036</td>\n",
              "      <td>45.13</td>\n",
              "      <td>42.0</td>\n",
              "      <td>5</td>\n",
              "    </tr>\n",
              "    <tr>\n",
              "      <th>6</th>\n",
              "      <td>7</td>\n",
              "      <td>La La Land</td>\n",
              "      <td>Comedy,Drama,Music</td>\n",
              "      <td>A jazz pianist falls for an aspiring actress i...</td>\n",
              "      <td>Damien Chazelle</td>\n",
              "      <td>Ryan Gosling, Emma Stone, Rosemarie DeWitt, J....</td>\n",
              "      <td>2016</td>\n",
              "      <td>128</td>\n",
              "      <td>8.3</td>\n",
              "      <td>258682</td>\n",
              "      <td>151.06</td>\n",
              "      <td>93.0</td>\n",
              "      <td>6</td>\n",
              "    </tr>\n",
              "    <tr>\n",
              "      <th>7</th>\n",
              "      <td>8</td>\n",
              "      <td>Mindhorn</td>\n",
              "      <td>Comedy</td>\n",
              "      <td>A has-been actor best known for playing the ti...</td>\n",
              "      <td>Sean Foley</td>\n",
              "      <td>Essie Davis, Andrea Riseborough, Julian Barrat...</td>\n",
              "      <td>2016</td>\n",
              "      <td>89</td>\n",
              "      <td>6.4</td>\n",
              "      <td>2490</td>\n",
              "      <td>NaN</td>\n",
              "      <td>71.0</td>\n",
              "      <td>7</td>\n",
              "    </tr>\n",
              "    <tr>\n",
              "      <th>8</th>\n",
              "      <td>9</td>\n",
              "      <td>The Lost City of Z</td>\n",
              "      <td>Action,Adventure,Biography</td>\n",
              "      <td>A true-life drama, centering on British explor...</td>\n",
              "      <td>James Gray</td>\n",
              "      <td>Charlie Hunnam, Robert Pattinson, Sienna Mille...</td>\n",
              "      <td>2016</td>\n",
              "      <td>141</td>\n",
              "      <td>7.1</td>\n",
              "      <td>7188</td>\n",
              "      <td>8.01</td>\n",
              "      <td>78.0</td>\n",
              "      <td>8</td>\n",
              "    </tr>\n",
              "    <tr>\n",
              "      <th>9</th>\n",
              "      <td>10</td>\n",
              "      <td>Passengers</td>\n",
              "      <td>Adventure,Drama,Romance</td>\n",
              "      <td>A spacecraft traveling to a distant colony pla...</td>\n",
              "      <td>Morten Tyldum</td>\n",
              "      <td>Jennifer Lawrence, Chris Pratt, Michael Sheen,...</td>\n",
              "      <td>2016</td>\n",
              "      <td>116</td>\n",
              "      <td>7.0</td>\n",
              "      <td>192177</td>\n",
              "      <td>100.01</td>\n",
              "      <td>41.0</td>\n",
              "      <td>9</td>\n",
              "    </tr>\n",
              "    <tr>\n",
              "      <th>10</th>\n",
              "      <td>11</td>\n",
              "      <td>Fantastic Beasts and Where to Find Them</td>\n",
              "      <td>Adventure,Family,Fantasy</td>\n",
              "      <td>The adventures of writer Newt Scamander in New...</td>\n",
              "      <td>David Yates</td>\n",
              "      <td>Eddie Redmayne, Katherine Waterston, Alison Su...</td>\n",
              "      <td>2016</td>\n",
              "      <td>133</td>\n",
              "      <td>7.5</td>\n",
              "      <td>232072</td>\n",
              "      <td>234.02</td>\n",
              "      <td>66.0</td>\n",
              "      <td>10</td>\n",
              "    </tr>\n",
              "    <tr>\n",
              "      <th>11</th>\n",
              "      <td>12</td>\n",
              "      <td>Hidden Figures</td>\n",
              "      <td>Biography,Drama,History</td>\n",
              "      <td>The story of a team of female African-American...</td>\n",
              "      <td>Theodore Melfi</td>\n",
              "      <td>Taraji P. Henson, Octavia Spencer, Janelle Mon...</td>\n",
              "      <td>2016</td>\n",
              "      <td>127</td>\n",
              "      <td>7.8</td>\n",
              "      <td>93103</td>\n",
              "      <td>169.27</td>\n",
              "      <td>74.0</td>\n",
              "      <td>11</td>\n",
              "    </tr>\n",
              "    <tr>\n",
              "      <th>12</th>\n",
              "      <td>13</td>\n",
              "      <td>Rogue One</td>\n",
              "      <td>Action,Adventure,Sci-Fi</td>\n",
              "      <td>The Rebel Alliance makes a risky move to steal...</td>\n",
              "      <td>Gareth Edwards</td>\n",
              "      <td>Felicity Jones, Diego Luna, Alan Tudyk, Donnie...</td>\n",
              "      <td>2016</td>\n",
              "      <td>133</td>\n",
              "      <td>7.9</td>\n",
              "      <td>323118</td>\n",
              "      <td>532.17</td>\n",
              "      <td>65.0</td>\n",
              "      <td>12</td>\n",
              "    </tr>\n",
              "    <tr>\n",
              "      <th>13</th>\n",
              "      <td>14</td>\n",
              "      <td>Moana</td>\n",
              "      <td>Animation,Adventure,Comedy</td>\n",
              "      <td>In Ancient Polynesia, when a terrible curse in...</td>\n",
              "      <td>Ron Clements</td>\n",
              "      <td>Auli'i Cravalho, Dwayne Johnson, Rachel House,...</td>\n",
              "      <td>2016</td>\n",
              "      <td>107</td>\n",
              "      <td>7.7</td>\n",
              "      <td>118151</td>\n",
              "      <td>248.75</td>\n",
              "      <td>81.0</td>\n",
              "      <td>13</td>\n",
              "    </tr>\n",
              "    <tr>\n",
              "      <th>14</th>\n",
              "      <td>15</td>\n",
              "      <td>Colossal</td>\n",
              "      <td>Action,Comedy,Drama</td>\n",
              "      <td>Gloria is an out-of-work party girl forced to ...</td>\n",
              "      <td>Nacho Vigalondo</td>\n",
              "      <td>Anne Hathaway, Jason Sudeikis, Austin Stowell,...</td>\n",
              "      <td>2016</td>\n",
              "      <td>109</td>\n",
              "      <td>6.4</td>\n",
              "      <td>8612</td>\n",
              "      <td>2.87</td>\n",
              "      <td>70.0</td>\n",
              "      <td>14</td>\n",
              "    </tr>\n",
              "    <tr>\n",
              "      <th>15</th>\n",
              "      <td>16</td>\n",
              "      <td>The Secret Life of Pets</td>\n",
              "      <td>Animation,Adventure,Comedy</td>\n",
              "      <td>The quiet life of a terrier named Max is upend...</td>\n",
              "      <td>Chris Renaud</td>\n",
              "      <td>Louis C.K., Eric Stonestreet, Kevin Hart, Lake...</td>\n",
              "      <td>2016</td>\n",
              "      <td>87</td>\n",
              "      <td>6.6</td>\n",
              "      <td>120259</td>\n",
              "      <td>368.31</td>\n",
              "      <td>61.0</td>\n",
              "      <td>15</td>\n",
              "    </tr>\n",
              "    <tr>\n",
              "      <th>16</th>\n",
              "      <td>17</td>\n",
              "      <td>Hacksaw Ridge</td>\n",
              "      <td>Biography,Drama,History</td>\n",
              "      <td>WWII American Army Medic Desmond T. Doss, who ...</td>\n",
              "      <td>Mel Gibson</td>\n",
              "      <td>Andrew Garfield, Sam Worthington, Luke Bracey,...</td>\n",
              "      <td>2016</td>\n",
              "      <td>139</td>\n",
              "      <td>8.2</td>\n",
              "      <td>211760</td>\n",
              "      <td>67.12</td>\n",
              "      <td>71.0</td>\n",
              "      <td>16</td>\n",
              "    </tr>\n",
              "    <tr>\n",
              "      <th>17</th>\n",
              "      <td>18</td>\n",
              "      <td>Jason Bourne</td>\n",
              "      <td>Action,Thriller</td>\n",
              "      <td>The CIA's most dangerous former operative is d...</td>\n",
              "      <td>Paul Greengrass</td>\n",
              "      <td>Matt Damon, Tommy Lee Jones, Alicia Vikander,V...</td>\n",
              "      <td>2016</td>\n",
              "      <td>123</td>\n",
              "      <td>6.7</td>\n",
              "      <td>150823</td>\n",
              "      <td>162.16</td>\n",
              "      <td>58.0</td>\n",
              "      <td>17</td>\n",
              "    </tr>\n",
              "    <tr>\n",
              "      <th>18</th>\n",
              "      <td>19</td>\n",
              "      <td>Lion</td>\n",
              "      <td>Biography,Drama</td>\n",
              "      <td>A five-year-old Indian boy gets lost on the st...</td>\n",
              "      <td>Garth Davis</td>\n",
              "      <td>Dev Patel, Nicole Kidman, Rooney Mara, Sunny P...</td>\n",
              "      <td>2016</td>\n",
              "      <td>118</td>\n",
              "      <td>8.1</td>\n",
              "      <td>102061</td>\n",
              "      <td>51.69</td>\n",
              "      <td>69.0</td>\n",
              "      <td>18</td>\n",
              "    </tr>\n",
              "    <tr>\n",
              "      <th>19</th>\n",
              "      <td>20</td>\n",
              "      <td>Arrival</td>\n",
              "      <td>Drama,Mystery,Sci-Fi</td>\n",
              "      <td>When twelve mysterious spacecraft appear aroun...</td>\n",
              "      <td>Denis Villeneuve</td>\n",
              "      <td>Amy Adams, Jeremy Renner, Forest Whitaker,Mich...</td>\n",
              "      <td>2016</td>\n",
              "      <td>116</td>\n",
              "      <td>8.0</td>\n",
              "      <td>340798</td>\n",
              "      <td>100.50</td>\n",
              "      <td>81.0</td>\n",
              "      <td>19</td>\n",
              "    </tr>\n",
              "  </tbody>\n",
              "</table>\n",
              "</div>"
            ],
            "text/plain": [
              "    Rank                                    Title  ... Metascore Movie_id\n",
              "0      1                  Guardians of the Galaxy  ...      76.0        0\n",
              "1      2                               Prometheus  ...      65.0        1\n",
              "2      3                                    Split  ...      62.0        2\n",
              "3      4                                     Sing  ...      59.0        3\n",
              "4      5                            Suicide Squad  ...      40.0        4\n",
              "5      6                           The Great Wall  ...      42.0        5\n",
              "6      7                               La La Land  ...      93.0        6\n",
              "7      8                                 Mindhorn  ...      71.0        7\n",
              "8      9                       The Lost City of Z  ...      78.0        8\n",
              "9     10                               Passengers  ...      41.0        9\n",
              "10    11  Fantastic Beasts and Where to Find Them  ...      66.0       10\n",
              "11    12                           Hidden Figures  ...      74.0       11\n",
              "12    13                                Rogue One  ...      65.0       12\n",
              "13    14                                    Moana  ...      81.0       13\n",
              "14    15                                 Colossal  ...      70.0       14\n",
              "15    16                  The Secret Life of Pets  ...      61.0       15\n",
              "16    17                            Hacksaw Ridge  ...      71.0       16\n",
              "17    18                             Jason Bourne  ...      58.0       17\n",
              "18    19                                     Lion  ...      69.0       18\n",
              "19    20                                  Arrival  ...      81.0       19\n",
              "\n",
              "[20 rows x 13 columns]"
            ]
          },
          "metadata": {
            "tags": []
          },
          "execution_count": 3
        }
      ]
    },
    {
      "cell_type": "code",
      "metadata": {
        "id": "Xmacgd-L9iDR",
        "colab_type": "code",
        "colab": {
          "base_uri": "https://localhost:8080/",
          "height": 34
        },
        "outputId": "8a1357d4-7540-4483-fc59-35c2fd4711ab"
      },
      "source": [
        "df.shape"
      ],
      "execution_count": 4,
      "outputs": [
        {
          "output_type": "execute_result",
          "data": {
            "text/plain": [
              "(1000, 13)"
            ]
          },
          "metadata": {
            "tags": []
          },
          "execution_count": 4
        }
      ]
    },
    {
      "cell_type": "code",
      "metadata": {
        "id": "RMZ33aFx9rz2",
        "colab_type": "code",
        "colab": {
          "base_uri": "https://localhost:8080/",
          "height": 204
        },
        "outputId": "b63578f9-9b58-43fc-b2d3-082397713bb1"
      },
      "source": [
        "coulmns = ['Actors', 'Director', 'Genre', 'Title']\n",
        "df[coulmns].head()"
      ],
      "execution_count": 5,
      "outputs": [
        {
          "output_type": "execute_result",
          "data": {
            "text/html": [
              "<div>\n",
              "<style scoped>\n",
              "    .dataframe tbody tr th:only-of-type {\n",
              "        vertical-align: middle;\n",
              "    }\n",
              "\n",
              "    .dataframe tbody tr th {\n",
              "        vertical-align: top;\n",
              "    }\n",
              "\n",
              "    .dataframe thead th {\n",
              "        text-align: right;\n",
              "    }\n",
              "</style>\n",
              "<table border=\"1\" class=\"dataframe\">\n",
              "  <thead>\n",
              "    <tr style=\"text-align: right;\">\n",
              "      <th></th>\n",
              "      <th>Actors</th>\n",
              "      <th>Director</th>\n",
              "      <th>Genre</th>\n",
              "      <th>Title</th>\n",
              "    </tr>\n",
              "  </thead>\n",
              "  <tbody>\n",
              "    <tr>\n",
              "      <th>0</th>\n",
              "      <td>Chris Pratt, Vin Diesel, Bradley Cooper, Zoe S...</td>\n",
              "      <td>James Gunn</td>\n",
              "      <td>Action,Adventure,Sci-Fi</td>\n",
              "      <td>Guardians of the Galaxy</td>\n",
              "    </tr>\n",
              "    <tr>\n",
              "      <th>1</th>\n",
              "      <td>Noomi Rapace, Logan Marshall-Green, Michael Fa...</td>\n",
              "      <td>Ridley Scott</td>\n",
              "      <td>Adventure,Mystery,Sci-Fi</td>\n",
              "      <td>Prometheus</td>\n",
              "    </tr>\n",
              "    <tr>\n",
              "      <th>2</th>\n",
              "      <td>James McAvoy, Anya Taylor-Joy, Haley Lu Richar...</td>\n",
              "      <td>M. Night Shyamalan</td>\n",
              "      <td>Horror,Thriller</td>\n",
              "      <td>Split</td>\n",
              "    </tr>\n",
              "    <tr>\n",
              "      <th>3</th>\n",
              "      <td>Matthew McConaughey,Reese Witherspoon, Seth Ma...</td>\n",
              "      <td>Christophe Lourdelet</td>\n",
              "      <td>Animation,Comedy,Family</td>\n",
              "      <td>Sing</td>\n",
              "    </tr>\n",
              "    <tr>\n",
              "      <th>4</th>\n",
              "      <td>Will Smith, Jared Leto, Margot Robbie, Viola D...</td>\n",
              "      <td>David Ayer</td>\n",
              "      <td>Action,Adventure,Fantasy</td>\n",
              "      <td>Suicide Squad</td>\n",
              "    </tr>\n",
              "  </tbody>\n",
              "</table>\n",
              "</div>"
            ],
            "text/plain": [
              "                                              Actors  ...                    Title\n",
              "0  Chris Pratt, Vin Diesel, Bradley Cooper, Zoe S...  ...  Guardians of the Galaxy\n",
              "1  Noomi Rapace, Logan Marshall-Green, Michael Fa...  ...               Prometheus\n",
              "2  James McAvoy, Anya Taylor-Joy, Haley Lu Richar...  ...                    Split\n",
              "3  Matthew McConaughey,Reese Witherspoon, Seth Ma...  ...                     Sing\n",
              "4  Will Smith, Jared Leto, Margot Robbie, Viola D...  ...            Suicide Squad\n",
              "\n",
              "[5 rows x 4 columns]"
            ]
          },
          "metadata": {
            "tags": []
          },
          "execution_count": 5
        }
      ]
    },
    {
      "cell_type": "code",
      "metadata": {
        "id": "8rre5L2a-9GL",
        "colab_type": "code",
        "colab": {
          "base_uri": "https://localhost:8080/",
          "height": 34
        },
        "outputId": "954b08cc-08af-4e06-f62b-ebe54e32a351"
      },
      "source": [
        "df[coulmns].isnull().values.any()"
      ],
      "execution_count": 6,
      "outputs": [
        {
          "output_type": "execute_result",
          "data": {
            "text/plain": [
              "False"
            ]
          },
          "metadata": {
            "tags": []
          },
          "execution_count": 6
        }
      ]
    },
    {
      "cell_type": "code",
      "metadata": {
        "id": "6jbroLXv_Hj3",
        "colab_type": "code",
        "colab": {}
      },
      "source": [
        "def important_features(data):\n",
        "  important_features = []\n",
        "  for i in range(0, data.shape[0]):\n",
        "    important_features.append(data['Actors'][i] + ' ' + data['Director'][i] + ' '+ data['Genre'][i] + ' ' + data['Title'][i])\n",
        "\n",
        "  return important_features\n",
        "\n"
      ],
      "execution_count": 7,
      "outputs": []
    },
    {
      "cell_type": "code",
      "metadata": {
        "id": "rbjOKp46CqXi",
        "colab_type": "code",
        "colab": {
          "base_uri": "https://localhost:8080/",
          "height": 306
        },
        "outputId": "8df99490-f79a-494e-a401-dcc452d7f65e"
      },
      "source": [
        "df['important_features'] = important_features(df)\n",
        "df.head()"
      ],
      "execution_count": 8,
      "outputs": [
        {
          "output_type": "execute_result",
          "data": {
            "text/html": [
              "<div>\n",
              "<style scoped>\n",
              "    .dataframe tbody tr th:only-of-type {\n",
              "        vertical-align: middle;\n",
              "    }\n",
              "\n",
              "    .dataframe tbody tr th {\n",
              "        vertical-align: top;\n",
              "    }\n",
              "\n",
              "    .dataframe thead th {\n",
              "        text-align: right;\n",
              "    }\n",
              "</style>\n",
              "<table border=\"1\" class=\"dataframe\">\n",
              "  <thead>\n",
              "    <tr style=\"text-align: right;\">\n",
              "      <th></th>\n",
              "      <th>Rank</th>\n",
              "      <th>Title</th>\n",
              "      <th>Genre</th>\n",
              "      <th>Description</th>\n",
              "      <th>Director</th>\n",
              "      <th>Actors</th>\n",
              "      <th>Year</th>\n",
              "      <th>Runtime (Minutes)</th>\n",
              "      <th>Rating</th>\n",
              "      <th>Votes</th>\n",
              "      <th>Revenue (Millions)</th>\n",
              "      <th>Metascore</th>\n",
              "      <th>Movie_id</th>\n",
              "      <th>important_features</th>\n",
              "    </tr>\n",
              "  </thead>\n",
              "  <tbody>\n",
              "    <tr>\n",
              "      <th>0</th>\n",
              "      <td>1</td>\n",
              "      <td>Guardians of the Galaxy</td>\n",
              "      <td>Action,Adventure,Sci-Fi</td>\n",
              "      <td>A group of intergalactic criminals are forced ...</td>\n",
              "      <td>James Gunn</td>\n",
              "      <td>Chris Pratt, Vin Diesel, Bradley Cooper, Zoe S...</td>\n",
              "      <td>2014</td>\n",
              "      <td>121</td>\n",
              "      <td>8.1</td>\n",
              "      <td>757074</td>\n",
              "      <td>333.13</td>\n",
              "      <td>76.0</td>\n",
              "      <td>0</td>\n",
              "      <td>Chris Pratt, Vin Diesel, Bradley Cooper, Zoe S...</td>\n",
              "    </tr>\n",
              "    <tr>\n",
              "      <th>1</th>\n",
              "      <td>2</td>\n",
              "      <td>Prometheus</td>\n",
              "      <td>Adventure,Mystery,Sci-Fi</td>\n",
              "      <td>Following clues to the origin of mankind, a te...</td>\n",
              "      <td>Ridley Scott</td>\n",
              "      <td>Noomi Rapace, Logan Marshall-Green, Michael Fa...</td>\n",
              "      <td>2012</td>\n",
              "      <td>124</td>\n",
              "      <td>7.0</td>\n",
              "      <td>485820</td>\n",
              "      <td>126.46</td>\n",
              "      <td>65.0</td>\n",
              "      <td>1</td>\n",
              "      <td>Noomi Rapace, Logan Marshall-Green, Michael Fa...</td>\n",
              "    </tr>\n",
              "    <tr>\n",
              "      <th>2</th>\n",
              "      <td>3</td>\n",
              "      <td>Split</td>\n",
              "      <td>Horror,Thriller</td>\n",
              "      <td>Three girls are kidnapped by a man with a diag...</td>\n",
              "      <td>M. Night Shyamalan</td>\n",
              "      <td>James McAvoy, Anya Taylor-Joy, Haley Lu Richar...</td>\n",
              "      <td>2016</td>\n",
              "      <td>117</td>\n",
              "      <td>7.3</td>\n",
              "      <td>157606</td>\n",
              "      <td>138.12</td>\n",
              "      <td>62.0</td>\n",
              "      <td>2</td>\n",
              "      <td>James McAvoy, Anya Taylor-Joy, Haley Lu Richar...</td>\n",
              "    </tr>\n",
              "    <tr>\n",
              "      <th>3</th>\n",
              "      <td>4</td>\n",
              "      <td>Sing</td>\n",
              "      <td>Animation,Comedy,Family</td>\n",
              "      <td>In a city of humanoid animals, a hustling thea...</td>\n",
              "      <td>Christophe Lourdelet</td>\n",
              "      <td>Matthew McConaughey,Reese Witherspoon, Seth Ma...</td>\n",
              "      <td>2016</td>\n",
              "      <td>108</td>\n",
              "      <td>7.2</td>\n",
              "      <td>60545</td>\n",
              "      <td>270.32</td>\n",
              "      <td>59.0</td>\n",
              "      <td>3</td>\n",
              "      <td>Matthew McConaughey,Reese Witherspoon, Seth Ma...</td>\n",
              "    </tr>\n",
              "    <tr>\n",
              "      <th>4</th>\n",
              "      <td>5</td>\n",
              "      <td>Suicide Squad</td>\n",
              "      <td>Action,Adventure,Fantasy</td>\n",
              "      <td>A secret government agency recruits some of th...</td>\n",
              "      <td>David Ayer</td>\n",
              "      <td>Will Smith, Jared Leto, Margot Robbie, Viola D...</td>\n",
              "      <td>2016</td>\n",
              "      <td>123</td>\n",
              "      <td>6.2</td>\n",
              "      <td>393727</td>\n",
              "      <td>325.02</td>\n",
              "      <td>40.0</td>\n",
              "      <td>4</td>\n",
              "      <td>Will Smith, Jared Leto, Margot Robbie, Viola D...</td>\n",
              "    </tr>\n",
              "  </tbody>\n",
              "</table>\n",
              "</div>"
            ],
            "text/plain": [
              "   Rank  ...                                 important_features\n",
              "0     1  ...  Chris Pratt, Vin Diesel, Bradley Cooper, Zoe S...\n",
              "1     2  ...  Noomi Rapace, Logan Marshall-Green, Michael Fa...\n",
              "2     3  ...  James McAvoy, Anya Taylor-Joy, Haley Lu Richar...\n",
              "3     4  ...  Matthew McConaughey,Reese Witherspoon, Seth Ma...\n",
              "4     5  ...  Will Smith, Jared Leto, Margot Robbie, Viola D...\n",
              "\n",
              "[5 rows x 14 columns]"
            ]
          },
          "metadata": {
            "tags": []
          },
          "execution_count": 8
        }
      ]
    },
    {
      "cell_type": "code",
      "metadata": {
        "id": "S1tz5JT8DMhw",
        "colab_type": "code",
        "colab": {}
      },
      "source": [
        "vectorizer = CountVectorizer().fit_transform(df['important_features'])"
      ],
      "execution_count": 9,
      "outputs": []
    },
    {
      "cell_type": "code",
      "metadata": {
        "id": "lL9l_B6XDboJ",
        "colab_type": "code",
        "colab": {
          "base_uri": "https://localhost:8080/",
          "height": 136
        },
        "outputId": "3ae264ea-99fb-4b8d-c3ee-e8027ee05ea1"
      },
      "source": [
        "cs = cosine_similarity(vectorizer)\n",
        "print(cs)"
      ],
      "execution_count": 10,
      "outputs": [
        {
          "output_type": "stream",
          "text": [
            "[[1.         0.1767767  0.06085806 ... 0.0571662  0.06537205 0.        ]\n",
            " [0.1767767  1.         0.         ... 0.         0.06933752 0.        ]\n",
            " [0.06085806 0.         1.         ... 0.         0.         0.        ]\n",
            " ...\n",
            " [0.0571662  0.         0.         ... 1.         0.06726728 0.        ]\n",
            " [0.06537205 0.06933752 0.         ... 0.06726728 1.         0.07161149]\n",
            " [0.         0.         0.         ... 0.         0.07161149 1.        ]]\n"
          ],
          "name": "stdout"
        }
      ]
    },
    {
      "cell_type": "code",
      "metadata": {
        "id": "fxx7hm5oH_dl",
        "colab_type": "code",
        "colab": {
          "base_uri": "https://localhost:8080/",
          "height": 34
        },
        "outputId": "23136262-42ea-4e42-9229-dc25a8e1f131"
      },
      "source": [
        "cs.shape"
      ],
      "execution_count": 11,
      "outputs": [
        {
          "output_type": "execute_result",
          "data": {
            "text/plain": [
              "(1000, 1000)"
            ]
          },
          "metadata": {
            "tags": []
          },
          "execution_count": 11
        }
      ]
    },
    {
      "cell_type": "code",
      "metadata": {
        "id": "zdDKcFKzIP3R",
        "colab_type": "code",
        "colab": {}
      },
      "source": [
        "# write the movie name\n",
        "title = 'Guardians of the Galaxy'\n",
        "movie_id = df[df.Title == title]['Movie_id'].values[0]"
      ],
      "execution_count": 13,
      "outputs": []
    },
    {
      "cell_type": "code",
      "metadata": {
        "id": "pWKz9WAoQAnu",
        "colab_type": "code",
        "colab": {}
      },
      "source": [
        "scores = list(enumerate(cs[movie_id]))"
      ],
      "execution_count": 15,
      "outputs": []
    },
    {
      "cell_type": "code",
      "metadata": {
        "id": "SJ1qj8CjQjIU",
        "colab_type": "code",
        "colab": {}
      },
      "source": [
        "sorted_scores = sorted(scores, key = lambda x:x[1], reverse=True)\n",
        "sorted_scores = sorted_scores[1:]"
      ],
      "execution_count": 19,
      "outputs": []
    },
    {
      "cell_type": "code",
      "metadata": {
        "id": "z80pfKJsRP4C",
        "colab_type": "code",
        "colab": {
          "base_uri": "https://localhost:8080/",
          "height": 54
        },
        "outputId": "882462a6-e5cd-4f13-8fe2-9592d3655940"
      },
      "source": [
        "print(sorted_scores)"
      ],
      "execution_count": 20,
      "outputs": [
        {
          "output_type": "stream",
          "text": [
            "[(48, 0.4001633653325207), (362, 0.4001633653325207), (257, 0.3771236166328254), (94, 0.3600411499115478), (85, 0.34299717028501775), (388, 0.34299717028501775), (162, 0.32444284226152503), (195, 0.32444284226152503), (216, 0.32444284226152503), (710, 0.32444284226152503), (566, 0.31622776601683794), (822, 0.31622776601683794), (87, 0.314970394174356), (558, 0.3086066999241839), (140, 0.3042903097250923), (728, 0.3042903097250923), (944, 0.3042903097250923), (32, 0.2946278254943948), (38, 0.2946278254943948), (76, 0.2946278254943948), (205, 0.2946278254943948), (924, 0.2946278254943948), (8, 0.2858309752375148), (200, 0.2858309752375148), (396, 0.2858309752375148), (712, 0.2858309752375148), (852, 0.2858309752375148), (176, 0.28284271247461906), (126, 0.27777777777777785), (253, 0.27777777777777785), (316, 0.27777777777777785), (325, 0.27777777777777785), (384, 0.27777777777777785), (35, 0.27036903521793754), (60, 0.27036903521793754), (429, 0.27036903521793754), (408, 0.25717224993681986), (680, 0.25717224993681986), (256, 0.25197631533948484), (739, 0.251259453814803), (806, 0.251259453814803), (84, 0.24343224778007383), (121, 0.24343224778007383), (212, 0.24343224778007383), (227, 0.24343224778007383), (354, 0.24343224778007383), (468, 0.24343224778007383), (472, 0.24343224778007383), (577, 0.24343224778007383), (588, 0.24343224778007383), (687, 0.24343224778007383), (908, 0.24343224778007383), (767, 0.2405626121623441), (12, 0.23570226039551587), (80, 0.23570226039551587), (102, 0.23570226039551587), (220, 0.23570226039551587), (287, 0.23570226039551587), (315, 0.23570226039551587), (389, 0.23570226039551587), (454, 0.23570226039551587), (528, 0.23570226039551587), (541, 0.23570226039551587), (542, 0.23570226039551587), (552, 0.23570226039551587), (673, 0.23570226039551587), (764, 0.23570226039551587), (313, 0.2311250817605122), (15, 0.2286647801900118), (24, 0.2286647801900118), (107, 0.2286647801900118), (151, 0.2286647801900118), (203, 0.2286647801900118), (214, 0.2286647801900118), (268, 0.2286647801900118), (450, 0.2286647801900118), (491, 0.2286647801900118), (575, 0.2286647801900118), (799, 0.2286647801900118), (878, 0.2286647801900118), (879, 0.2286647801900118), (67, 0.22222222222222227), (234, 0.22222222222222227), (243, 0.22222222222222227), (279, 0.22222222222222227), (371, 0.22222222222222227), (564, 0.22222222222222227), (871, 0.22222222222222227), (948, 0.22222222222222227), (990, 0.22222222222222227), (34, 0.21629522817435004), (156, 0.21629522817435004), (45, 0.21081851067789198), (75, 0.21081851067789198), (78, 0.21081851067789198), (500, 0.21081851067789198), (518, 0.21081851067789198), (135, 0.2057377999494559), (264, 0.2057377999494559), (314, 0.19658927487319622), (255, 0.19611613513818404), (244, 0.1924500897298753), (629, 0.1924500897298753), (9, 0.18898223650461363), (26, 0.18898223650461363), (91, 0.18898223650461363), (101, 0.18898223650461363), (134, 0.18898223650461363), (204, 0.18898223650461363), (370, 0.18898223650461363), (386, 0.18898223650461363), (446, 0.18898223650461363), (492, 0.18898223650461363), (613, 0.18490006540840975), (36, 0.18257418583505536), (217, 0.18257418583505536), (239, 0.18257418583505536), (319, 0.18257418583505536), (331, 0.18257418583505536), (340, 0.18257418583505536), (379, 0.18257418583505536), (512, 0.18257418583505536), (526, 0.18257418583505536), (559, 0.18257418583505536), (731, 0.18257418583505536), (766, 0.18257418583505536), (904, 0.18257418583505536), (1, 0.1767766952966369), (5, 0.1767766952966369), (51, 0.1767766952966369), (64, 0.1767766952966369), (97, 0.1767766952966369), (104, 0.1767766952966369), (131, 0.1767766952966369), (294, 0.1767766952966369), (323, 0.1767766952966369), (345, 0.1767766952966369), (368, 0.1767766952966369), (404, 0.1767766952966369), (432, 0.1767766952966369), (481, 0.1767766952966369), (529, 0.1767766952966369), (532, 0.1767766952966369), (533, 0.1767766952966369), (537, 0.1767766952966369), (553, 0.1767766952966369), (576, 0.1767766952966369), (581, 0.1767766952966369), (758, 0.1767766952966369), (770, 0.1767766952966369), (774, 0.1767766952966369), (781, 0.1767766952966369), (872, 0.1767766952966369), (913, 0.1767766952966369), (940, 0.1767766952966369), (954, 0.1767766952966369), (969, 0.1767766952966369), (65, 0.17149858514250885), (112, 0.17149858514250885), (215, 0.17149858514250885), (246, 0.17149858514250885), (326, 0.17149858514250885), (357, 0.17149858514250885), (525, 0.17149858514250885), (626, 0.17149858514250885), (690, 0.17149858514250885), (706, 0.17149858514250885), (916, 0.17149858514250885), (919, 0.17149858514250885), (938, 0.17149858514250885), (155, 0.16666666666666669), (302, 0.16666666666666669), (440, 0.16666666666666669), (494, 0.16666666666666669), (821, 0.16666666666666669), (827, 0.16666666666666669), (50, 0.16222142113076254), (306, 0.16222142113076254), (465, 0.16222142113076254), (560, 0.16222142113076254), (604, 0.16222142113076254), (609, 0.16222142113076254), (961, 0.16222142113076254), (683, 0.158113883008419), (953, 0.158113883008419), (978, 0.158113883008419), (578, 0.15430334996209194), (679, 0.15430334996209194), (843, 0.15430334996209194), (935, 0.15430334996209194), (308, 0.14744195615489716), (619, 0.14744195615489716), (284, 0.1307440900921227), (317, 0.1307440900921227), (351, 0.1307440900921227), (394, 0.1307440900921227), (631, 0.1307440900921227), (646, 0.1307440900921227), (722, 0.1307440900921227), (844, 0.1307440900921227), (937, 0.1307440900921227), (30, 0.12598815766974242), (89, 0.12598815766974242), (149, 0.12598815766974242), (169, 0.12598815766974242), (174, 0.12598815766974242), (175, 0.12598815766974242), (183, 0.12598815766974242), (228, 0.12598815766974242), (270, 0.12598815766974242), (275, 0.12598815766974242), (293, 0.12598815766974242), (347, 0.12598815766974242), (373, 0.12598815766974242), (400, 0.12598815766974242), (448, 0.12598815766974242), (451, 0.12598815766974242), (497, 0.12598815766974242), (718, 0.12598815766974242), (786, 0.12598815766974242), (802, 0.12598815766974242), (856, 0.12598815766974242), (920, 0.12598815766974242), (4, 0.12171612389003691), (19, 0.12171612389003691), (29, 0.12171612389003691), (33, 0.12171612389003691), (69, 0.12171612389003691), (150, 0.12171612389003691), (164, 0.12171612389003691), (172, 0.12171612389003691), (173, 0.12171612389003691), (178, 0.12171612389003691), (179, 0.12171612389003691), (210, 0.12171612389003691), (229, 0.12171612389003691), (232, 0.12171612389003691), (254, 0.12171612389003691), (334, 0.12171612389003691), (344, 0.12171612389003691), (355, 0.12171612389003691), (369, 0.12171612389003691), (385, 0.12171612389003691), (391, 0.12171612389003691), (398, 0.12171612389003691), (463, 0.12171612389003691), (484, 0.12171612389003691), (509, 0.12171612389003691), (557, 0.12171612389003691), (592, 0.12171612389003691), (597, 0.12171612389003691), (598, 0.12171612389003691), (616, 0.12171612389003691), (618, 0.12171612389003691), (625, 0.12171612389003691), (663, 0.12171612389003691), (693, 0.12171612389003691), (694, 0.12171612389003691), (753, 0.12171612389003691), (755, 0.12171612389003691), (759, 0.12171612389003691), (771, 0.12171612389003691), (787, 0.12171612389003691), (810, 0.12171612389003691), (817, 0.12171612389003691), (833, 0.12171612389003691), (880, 0.12171612389003691), (884, 0.12171612389003691), (897, 0.12171612389003691), (54, 0.11785113019775793), (95, 0.11785113019775793), (109, 0.11785113019775793), (124, 0.11785113019775793), (125, 0.11785113019775793), (129, 0.11785113019775793), (168, 0.11785113019775793), (193, 0.11785113019775793), (221, 0.11785113019775793), (281, 0.11785113019775793), (300, 0.11785113019775793), (358, 0.11785113019775793), (387, 0.11785113019775793), (406, 0.11785113019775793), (414, 0.11785113019775793), (427, 0.11785113019775793), (461, 0.11785113019775793), (469, 0.11785113019775793), (490, 0.11785113019775793), (527, 0.11785113019775793), (545, 0.11785113019775793), (603, 0.11785113019775793), (615, 0.11785113019775793), (636, 0.11785113019775793), (644, 0.11785113019775793), (660, 0.11785113019775793), (661, 0.11785113019775793), (697, 0.11785113019775793), (724, 0.11785113019775793), (737, 0.11785113019775793), (775, 0.11785113019775793), (835, 0.11785113019775793), (854, 0.11785113019775793), (869, 0.11785113019775793), (886, 0.11785113019775793), (901, 0.11785113019775793), (927, 0.11785113019775793), (985, 0.11785113019775793), (993, 0.11785113019775793), (37, 0.1143323900950059), (154, 0.1143323900950059), (166, 0.1143323900950059), (197, 0.1143323900950059), (233, 0.1143323900950059), (235, 0.1143323900950059), (238, 0.1143323900950059), (267, 0.1143323900950059), (271, 0.1143323900950059), (286, 0.1143323900950059), (296, 0.1143323900950059), (336, 0.1143323900950059), (433, 0.1143323900950059), (495, 0.1143323900950059), (496, 0.1143323900950059), (505, 0.1143323900950059), (516, 0.1143323900950059), (657, 0.1143323900950059), (698, 0.1143323900950059), (741, 0.1143323900950059), (807, 0.1143323900950059), (941, 0.1143323900950059), (967, 0.1143323900950059), (61, 0.11111111111111113), (82, 0.11111111111111113), (146, 0.11111111111111113), (163, 0.11111111111111113), (171, 0.11111111111111113), (395, 0.11111111111111113), (423, 0.11111111111111113), (447, 0.11111111111111113), (535, 0.11111111111111113), (617, 0.11111111111111113), (640, 0.11111111111111113), (674, 0.11111111111111113), (696, 0.11111111111111113), (837, 0.11111111111111113), (864, 0.11111111111111113), (875, 0.11111111111111113), (903, 0.11111111111111113), (905, 0.11111111111111113), (918, 0.11111111111111113), (110, 0.10814761408717502), (158, 0.10814761408717502), (366, 0.10814761408717502), (425, 0.10814761408717502), (772, 0.10814761408717502), (809, 0.10814761408717502), (921, 0.10814761408717502), (925, 0.10814761408717502), (62, 0.10540925533894599), (114, 0.10540925533894599), (418, 0.10540925533894599), (422, 0.10540925533894599), (473, 0.10540925533894599), (476, 0.10540925533894599), (749, 0.10540925533894599), (784, 0.10540925533894599), (209, 0.10286889997472795), (223, 0.10286889997472795), (260, 0.10286889997472795), (510, 0.10286889997472795), (803, 0.10286889997472795), (650, 0.10050378152592121), (911, 0.10050378152592121), (259, 0.09829463743659811), (410, 0.06537204504606135), (419, 0.06537204504606135), (421, 0.06537204504606135), (437, 0.06537204504606135), (591, 0.06537204504606135), (624, 0.06537204504606135), (659, 0.06537204504606135), (678, 0.06537204504606135), (730, 0.06537204504606135), (740, 0.06537204504606135), (846, 0.06537204504606135), (866, 0.06537204504606135), (890, 0.06537204504606135), (928, 0.06537204504606135), (932, 0.06537204504606135), (964, 0.06537204504606135), (966, 0.06537204504606135), (994, 0.06537204504606135), (998, 0.06537204504606135), (13, 0.06299407883487121), (47, 0.06299407883487121), (49, 0.06299407883487121), (55, 0.06299407883487121), (71, 0.06299407883487121), (74, 0.06299407883487121), (79, 0.06299407883487121), (92, 0.06299407883487121), (106, 0.06299407883487121), (113, 0.06299407883487121), (123, 0.06299407883487121), (127, 0.06299407883487121), (194, 0.06299407883487121), (240, 0.06299407883487121), (242, 0.06299407883487121), (248, 0.06299407883487121), (285, 0.06299407883487121), (288, 0.06299407883487121), (295, 0.06299407883487121), (312, 0.06299407883487121), (322, 0.06299407883487121), (329, 0.06299407883487121), (330, 0.06299407883487121), (346, 0.06299407883487121), (352, 0.06299407883487121), (363, 0.06299407883487121), (372, 0.06299407883487121), (375, 0.06299407883487121), (390, 0.06299407883487121), (401, 0.06299407883487121), (407, 0.06299407883487121), (409, 0.06299407883487121), (416, 0.06299407883487121), (417, 0.06299407883487121), (420, 0.06299407883487121), (435, 0.06299407883487121), (444, 0.06299407883487121), (452, 0.06299407883487121), (464, 0.06299407883487121), (466, 0.06299407883487121), (482, 0.06299407883487121), (499, 0.06299407883487121), (511, 0.06299407883487121), (517, 0.06299407883487121), (522, 0.06299407883487121), (562, 0.06299407883487121), (565, 0.06299407883487121), (571, 0.06299407883487121), (587, 0.06299407883487121), (589, 0.06299407883487121), (599, 0.06299407883487121), (623, 0.06299407883487121), (634, 0.06299407883487121), (639, 0.06299407883487121), (642, 0.06299407883487121), (652, 0.06299407883487121), (654, 0.06299407883487121), (675, 0.06299407883487121), (699, 0.06299407883487121), (703, 0.06299407883487121), (729, 0.06299407883487121), (763, 0.06299407883487121), (777, 0.06299407883487121), (789, 0.06299407883487121), (828, 0.06299407883487121), (834, 0.06299407883487121), (883, 0.06299407883487121), (902, 0.06299407883487121), (946, 0.06299407883487121), (947, 0.06299407883487121), (951, 0.06299407883487121), (956, 0.06299407883487121), (968, 0.06299407883487121), (984, 0.06299407883487121), (2, 0.06085806194501846), (14, 0.06085806194501846), (17, 0.06085806194501846), (20, 0.06085806194501846), (21, 0.06085806194501846), (23, 0.06085806194501846), (40, 0.06085806194501846), (53, 0.06085806194501846), (77, 0.06085806194501846), (99, 0.06085806194501846), (117, 0.06085806194501846), (119, 0.06085806194501846), (137, 0.06085806194501846), (147, 0.06085806194501846), (153, 0.06085806194501846), (159, 0.06085806194501846), (161, 0.06085806194501846), (182, 0.06085806194501846), (213, 0.06085806194501846), (226, 0.06085806194501846), (237, 0.06085806194501846), (241, 0.06085806194501846), (274, 0.06085806194501846), (298, 0.06085806194501846), (301, 0.06085806194501846), (303, 0.06085806194501846), (318, 0.06085806194501846), (324, 0.06085806194501846), (341, 0.06085806194501846), (376, 0.06085806194501846), (393, 0.06085806194501846), (402, 0.06085806194501846), (403, 0.06085806194501846), (412, 0.06085806194501846), (453, 0.06085806194501846), (456, 0.06085806194501846), (485, 0.06085806194501846), (493, 0.06085806194501846), (513, 0.06085806194501846), (521, 0.06085806194501846), (536, 0.06085806194501846), (540, 0.06085806194501846), (572, 0.06085806194501846), (580, 0.06085806194501846), (600, 0.06085806194501846), (621, 0.06085806194501846), (627, 0.06085806194501846), (649, 0.06085806194501846), (669, 0.06085806194501846), (670, 0.06085806194501846), (676, 0.06085806194501846), (688, 0.06085806194501846), (702, 0.06085806194501846), (707, 0.06085806194501846), (717, 0.06085806194501846), (721, 0.06085806194501846), (723, 0.06085806194501846), (727, 0.06085806194501846), (735, 0.06085806194501846), (736, 0.06085806194501846), (738, 0.06085806194501846), (743, 0.06085806194501846), (780, 0.06085806194501846), (788, 0.06085806194501846), (796, 0.06085806194501846), (797, 0.06085806194501846), (805, 0.06085806194501846), (855, 0.06085806194501846), (892, 0.06085806194501846), (895, 0.06085806194501846), (898, 0.06085806194501846), (923, 0.06085806194501846), (929, 0.06085806194501846), (943, 0.06085806194501846), (949, 0.06085806194501846), (958, 0.06085806194501846), (22, 0.05892556509887897), (42, 0.05892556509887897), (70, 0.05892556509887897), (116, 0.05892556509887897), (141, 0.05892556509887897), (142, 0.05892556509887897), (190, 0.05892556509887897), (198, 0.05892556509887897), (199, 0.05892556509887897), (219, 0.05892556509887897), (231, 0.05892556509887897), (249, 0.05892556509887897), (262, 0.05892556509887897), (272, 0.05892556509887897), (276, 0.05892556509887897), (283, 0.05892556509887897), (297, 0.05892556509887897), (342, 0.05892556509887897), (343, 0.05892556509887897), (383, 0.05892556509887897), (405, 0.05892556509887897), (424, 0.05892556509887897), (436, 0.05892556509887897), (445, 0.05892556509887897), (475, 0.05892556509887897), (555, 0.05892556509887897), (563, 0.05892556509887897), (570, 0.05892556509887897), (585, 0.05892556509887897), (593, 0.05892556509887897), (596, 0.05892556509887897), (601, 0.05892556509887897), (612, 0.05892556509887897), (672, 0.05892556509887897), (685, 0.05892556509887897), (704, 0.05892556509887897), (705, 0.05892556509887897), (733, 0.05892556509887897), (746, 0.05892556509887897), (748, 0.05892556509887897), (791, 0.05892556509887897), (794, 0.05892556509887897), (814, 0.05892556509887897), (819, 0.05892556509887897), (858, 0.05892556509887897), (887, 0.05892556509887897), (912, 0.05892556509887897), (934, 0.05892556509887897), (936, 0.05892556509887897), (957, 0.05892556509887897), (960, 0.05892556509887897), (972, 0.05892556509887897), (974, 0.05892556509887897), (979, 0.05892556509887897), (88, 0.05716619504750295), (105, 0.05716619504750295), (224, 0.05716619504750295), (304, 0.05716619504750295), (310, 0.05716619504750295), (338, 0.05716619504750295), (367, 0.05716619504750295), (378, 0.05716619504750295), (519, 0.05716619504750295), (547, 0.05716619504750295), (550, 0.05716619504750295), (628, 0.05716619504750295), (714, 0.05716619504750295), (762, 0.05716619504750295), (779, 0.05716619504750295), (798, 0.05716619504750295), (917, 0.05716619504750295), (962, 0.05716619504750295), (982, 0.05716619504750295), (997, 0.05716619504750295), (132, 0.055555555555555566), (181, 0.055555555555555566), (290, 0.055555555555555566), (438, 0.055555555555555566), (556, 0.055555555555555566), (568, 0.055555555555555566), (667, 0.055555555555555566), (708, 0.055555555555555566), (773, 0.055555555555555566), (831, 0.055555555555555566), (867, 0.055555555555555566), (868, 0.055555555555555566), (894, 0.055555555555555566), (939, 0.055555555555555566), (43, 0.05407380704358751), (86, 0.05407380704358751), (120, 0.05407380704358751), (122, 0.05407380704358751), (177, 0.05407380704358751), (434, 0.05407380704358751), (460, 0.05407380704358751), (507, 0.05407380704358751), (893, 0.05407380704358751), (952, 0.05407380704358751), (10, 0.052704627669472995), (63, 0.052704627669472995), (426, 0.052704627669472995), (546, 0.052704627669472995), (910, 0.052704627669472995), (327, 0.050251890762960605), (862, 0.050251890762960605), (950, 0.050251890762960605), (632, 0.049147318718299055), (380, 0.04811252243246882), (745, 0.04811252243246882), (3, 0.0), (6, 0.0), (7, 0.0), (11, 0.0), (16, 0.0), (18, 0.0), (25, 0.0), (27, 0.0), (28, 0.0), (31, 0.0), (39, 0.0), (41, 0.0), (44, 0.0), (46, 0.0), (52, 0.0), (56, 0.0), (57, 0.0), (58, 0.0), (59, 0.0), (66, 0.0), (68, 0.0), (72, 0.0), (73, 0.0), (81, 0.0), (83, 0.0), (90, 0.0), (93, 0.0), (96, 0.0), (98, 0.0), (100, 0.0), (103, 0.0), (108, 0.0), (111, 0.0), (115, 0.0), (118, 0.0), (128, 0.0), (130, 0.0), (133, 0.0), (136, 0.0), (138, 0.0), (139, 0.0), (143, 0.0), (144, 0.0), (145, 0.0), (148, 0.0), (152, 0.0), (157, 0.0), (160, 0.0), (165, 0.0), (167, 0.0), (170, 0.0), (180, 0.0), (184, 0.0), (185, 0.0), (186, 0.0), (187, 0.0), (188, 0.0), (189, 0.0), (191, 0.0), (192, 0.0), (196, 0.0), (201, 0.0), (202, 0.0), (206, 0.0), (207, 0.0), (208, 0.0), (211, 0.0), (218, 0.0), (222, 0.0), (225, 0.0), (230, 0.0), (236, 0.0), (245, 0.0), (247, 0.0), (250, 0.0), (251, 0.0), (252, 0.0), (258, 0.0), (261, 0.0), (263, 0.0), (265, 0.0), (266, 0.0), (269, 0.0), (273, 0.0), (277, 0.0), (278, 0.0), (280, 0.0), (282, 0.0), (289, 0.0), (291, 0.0), (292, 0.0), (299, 0.0), (305, 0.0), (307, 0.0), (309, 0.0), (311, 0.0), (320, 0.0), (321, 0.0), (328, 0.0), (332, 0.0), (333, 0.0), (335, 0.0), (337, 0.0), (339, 0.0), (348, 0.0), (349, 0.0), (350, 0.0), (353, 0.0), (356, 0.0), (359, 0.0), (360, 0.0), (361, 0.0), (364, 0.0), (365, 0.0), (374, 0.0), (377, 0.0), (381, 0.0), (382, 0.0), (392, 0.0), (397, 0.0), (399, 0.0), (411, 0.0), (413, 0.0), (415, 0.0), (428, 0.0), (430, 0.0), (431, 0.0), (439, 0.0), (441, 0.0), (442, 0.0), (443, 0.0), (449, 0.0), (455, 0.0), (457, 0.0), (458, 0.0), (459, 0.0), (462, 0.0), (467, 0.0), (470, 0.0), (471, 0.0), (474, 0.0), (477, 0.0), (478, 0.0), (479, 0.0), (480, 0.0), (483, 0.0), (486, 0.0), (487, 0.0), (488, 0.0), (489, 0.0), (498, 0.0), (501, 0.0), (502, 0.0), (503, 0.0), (504, 0.0), (506, 0.0), (508, 0.0), (514, 0.0), (515, 0.0), (520, 0.0), (523, 0.0), (524, 0.0), (530, 0.0), (531, 0.0), (534, 0.0), (538, 0.0), (539, 0.0), (543, 0.0), (544, 0.0), (548, 0.0), (549, 0.0), (551, 0.0), (554, 0.0), (561, 0.0), (567, 0.0), (569, 0.0), (573, 0.0), (574, 0.0), (579, 0.0), (582, 0.0), (583, 0.0), (584, 0.0), (586, 0.0), (590, 0.0), (594, 0.0), (595, 0.0), (602, 0.0), (605, 0.0), (606, 0.0), (607, 0.0), (608, 0.0), (610, 0.0), (611, 0.0), (614, 0.0), (620, 0.0), (622, 0.0), (630, 0.0), (633, 0.0), (635, 0.0), (637, 0.0), (638, 0.0), (641, 0.0), (643, 0.0), (645, 0.0), (647, 0.0), (648, 0.0), (651, 0.0), (653, 0.0), (655, 0.0), (656, 0.0), (658, 0.0), (662, 0.0), (664, 0.0), (665, 0.0), (666, 0.0), (668, 0.0), (671, 0.0), (677, 0.0), (681, 0.0), (682, 0.0), (684, 0.0), (686, 0.0), (689, 0.0), (691, 0.0), (692, 0.0), (695, 0.0), (700, 0.0), (701, 0.0), (709, 0.0), (711, 0.0), (713, 0.0), (715, 0.0), (716, 0.0), (719, 0.0), (720, 0.0), (725, 0.0), (726, 0.0), (732, 0.0), (734, 0.0), (742, 0.0), (744, 0.0), (747, 0.0), (750, 0.0), (751, 0.0), (752, 0.0), (754, 0.0), (756, 0.0), (757, 0.0), (760, 0.0), (761, 0.0), (765, 0.0), (768, 0.0), (769, 0.0), (776, 0.0), (778, 0.0), (782, 0.0), (783, 0.0), (785, 0.0), (790, 0.0), (792, 0.0), (793, 0.0), (795, 0.0), (800, 0.0), (801, 0.0), (804, 0.0), (808, 0.0), (811, 0.0), (812, 0.0), (813, 0.0), (815, 0.0), (816, 0.0), (818, 0.0), (820, 0.0), (823, 0.0), (824, 0.0), (825, 0.0), (826, 0.0), (829, 0.0), (830, 0.0), (832, 0.0), (836, 0.0), (838, 0.0), (839, 0.0), (840, 0.0), (841, 0.0), (842, 0.0), (845, 0.0), (847, 0.0), (848, 0.0), (849, 0.0), (850, 0.0), (851, 0.0), (853, 0.0), (857, 0.0), (859, 0.0), (860, 0.0), (861, 0.0), (863, 0.0), (865, 0.0), (870, 0.0), (873, 0.0), (874, 0.0), (876, 0.0), (877, 0.0), (881, 0.0), (882, 0.0), (885, 0.0), (888, 0.0), (889, 0.0), (891, 0.0), (896, 0.0), (899, 0.0), (900, 0.0), (906, 0.0), (907, 0.0), (909, 0.0), (914, 0.0), (915, 0.0), (922, 0.0), (926, 0.0), (930, 0.0), (931, 0.0), (933, 0.0), (942, 0.0), (945, 0.0), (955, 0.0), (959, 0.0), (963, 0.0), (965, 0.0), (970, 0.0), (971, 0.0), (973, 0.0), (975, 0.0), (976, 0.0), (977, 0.0), (980, 0.0), (981, 0.0), (983, 0.0), (986, 0.0), (987, 0.0), (988, 0.0), (989, 0.0), (991, 0.0), (992, 0.0), (995, 0.0), (996, 0.0), (999, 0.0)]\n"
          ],
          "name": "stdout"
        }
      ]
    },
    {
      "cell_type": "code",
      "metadata": {
        "id": "Bay1d2o-RlH8",
        "colab_type": "code",
        "colab": {
          "base_uri": "https://localhost:8080/",
          "height": 238
        },
        "outputId": "eaa66402-2c5e-4abc-ef9d-b283b21ac6c1"
      },
      "source": [
        "# print the first 10 movies recommended\n",
        "\n",
        "print('the recommended movies are:\\n')\n",
        "k = 0\n",
        "for index in sorted_scores:\n",
        "  movie_title = df[df.Movie_id == index[0]][\"Title\"].values[0]\n",
        "  print(k+1, movie_title)\n",
        "  k += 1\n",
        "  if k>10:\n",
        "    break"
      ],
      "execution_count": 22,
      "outputs": [
        {
          "output_type": "stream",
          "text": [
            "the recommended movies are:\n",
            "\n",
            "1 Star Trek Beyond\n",
            "2 Star Trek Into Darkness\n",
            "3 Rise of the Planet of the Apes\n",
            "4 Avengers: Age of Ultron\n",
            "5 Jurassic World\n",
            "6 The Wolverine\n",
            "7 X-Men: Days of Future Past\n",
            "8 Captain America: The First Avenger\n",
            "9 Captain America: The Winter Soldier\n",
            "10 Transformers: Revenge of the Fallen\n",
            "11 Transformers: Dark of the Moon\n"
          ],
          "name": "stdout"
        }
      ]
    }
  ]
}